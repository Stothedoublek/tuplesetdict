{
 "cells": [
  {
   "cell_type": "markdown",
   "id": "e72a59ab-7af0-445e-9c1d-e85fc0adcd67",
   "metadata": {},
   "source": [
    "Q1. What are the characteristics of the tuples? Is tuple immutable?"
   ]
  },
  {
   "cell_type": "markdown",
   "id": "e7cf7203-49ca-4443-bf68-8760d2ac9ac3",
   "metadata": {},
   "source": [
    " The characteristics of tuples are:\n",
    "\n",
    "- Tuples are **ordered** collections of Python objects, meaning that the items have a defined order and can be accessed by their index values.\n",
    "- Tuples are **immutable**, meaning that they cannot be changed, added, or removed once they are created.\n",
    "- Tuples can contain **any data type**, such as strings, integers, booleans, lists, dictionaries, etc.\n",
    "- Tuples can have **duplicate values**, meaning that they can have items with the same value.\n",
    "- Tuples are written with **round brackets** `()` and separated by commas `,`.\n",
    "\n",
    "Yes, tuples are immutable in Python. This means that once a tuple is created, it cannot be modified in any way. For example, you cannot assign a new value to an existing item, append a new item, or delete an existing item from a tuple. If you try to do so, you will get an error. However, you can create a new tuple from an existing one by using slicing or concatenation operations. \n",
    "\n",
    "\n"
   ]
  },
  {
   "cell_type": "markdown",
   "id": "85147640-0ec7-472f-98bb-f75ad4ceeb13",
   "metadata": {},
   "source": [
    "Q2. What are the two tuple methods in python? Give an example of each method. Give a reason why\n",
    "tuples have only two in-built methods as compared to Lists."
   ]
  },
  {
   "cell_type": "markdown",
   "id": "bdee69c6-f232-4e17-91c5-802595fb0d57",
   "metadata": {},
   "source": [
    " The two tuple methods in Python are:\n",
    "\n",
    "- **count()**: This method returns the number of times a specified value occurs in a tuple. For example, if we have a tuple `t = (1, 2, 3, 2, 4, 2)`, then `t.count(2)` will return `3`, because the value `2` appears three times in the tuple. ¹²\n",
    "- **index()**: This method returns the index of the first occurrence of a specified value in a tuple. If the value is not found, it raises a ValueError. For example, if we have a tuple `t = (1, 2, 3, 2, 4, 2)`, then `t.index(3)` will return `2`, because the value `3` is at index `2` in the tuple. However, `t.index(5)` will raise a ValueError, because the value `5` is not in the tuple. \n",
    "\n",
    "Tuples have only two in-built methods as compared to lists because tuples are immutable, meaning that they cannot be changed once they are created. Therefore, tuples do not need methods that can modify their elements, such as append(), insert(), remove(), pop(), sort(), reverse(), etc. Lists, on the other hand, are mutable, meaning that they can be changed after they are created. Therefore, lists have more methods that can manipulate their elements.\n"
   ]
  },
  {
   "cell_type": "markdown",
   "id": "81902704-43b5-4e64-9c6f-5ffb58bf9ed7",
   "metadata": {},
   "source": [
    "Q.3 Which collection datatypes in python do not allow duplicate items? Write a code using a set to remove\n",
    "duplicates from the given list."
   ]
  },
  {
   "cell_type": "markdown",
   "id": "d42e99f1-da20-49ec-9add-ea2933522e99",
   "metadata": {},
   "source": [
    "The collection datatypes in Python that do not allow duplicate items are **set** and **dictionary**³. A set is an unordered, unchangeable, and unindexed collection of unique objects³. A dictionary is an ordered and changeable collection of key/value pairs, where each key must be unique³.\n",
    "\n",
    "To remove duplicates from a given list, we can use a set to convert the list into a collection of unique elements, and then convert it back to a list. For example, if we have a list `l = [1, 2, 3, 4, 4, 5, 6, 6]`, we can use the following code to remove the duplicates:\n",
    "\n"
   ]
  },
  {
   "cell_type": "code",
   "execution_count": 3,
   "id": "0451d7b2-1e22-4c30-85d0-25833a7e45ba",
   "metadata": {},
   "outputs": [
    {
     "name": "stdout",
     "output_type": "stream",
     "text": [
      "[1, 2, 3, 4]\n"
     ]
    }
   ],
   "source": [
    "# Create a list with duplicates\n",
    "l = [1, 1, 1, 2, 1, 3, 1, 4, 2, 1, 2, 2, 2, 3, 2, 4,\n",
    "     3, 1, 3, 2, 3, 3, 3, 4, 4, 1, 4, 2, 4, 3, 4, 4]\n",
    "\n",
    "# Convert the list to a set to remove duplicates\n",
    "s = set(l)\n",
    "\n",
    "# Convert the set back to a list\n",
    "l = list(s)\n",
    "\n",
    "# Print the list without duplicates\n",
    "print(l)\n"
   ]
  },
  {
   "cell_type": "markdown",
   "id": "7ba0ed4a-35c7-4aee-a9b4-fa6474a19e24",
   "metadata": {},
   "source": [
    "Q4. Explain the difference between the union() and update() methods for a set. Give an example of\n",
    "each method."
   ]
  },
  {
   "cell_type": "markdown",
   "id": "cf9aa9e4-be6c-470b-9882-47d3ef11ee5c",
   "metadata": {},
   "source": [
    "The difference between the union() and update() methods for a set is that:\n",
    "\n",
    "- The union() method returns a new set that contains all the elements from both sets, without changing the original sets. The update() method adds all the elements from another set to the current set, and modifies it in place. \n",
    "- The union() method can take any iterable object as an argument, such as lists, tuples, dictionaries, etc. The update() method can only take another set as an argument. \n",
    "- The union() method can take multiple iterables as arguments, separated by commas. The update() method can only take one set as an argument. \n",
    "\n"
   ]
  },
  {
   "cell_type": "code",
   "execution_count": 5,
   "id": "38be0734-c49c-441b-8058-41e2606dd86a",
   "metadata": {},
   "outputs": [
    {
     "name": "stdout",
     "output_type": "stream",
     "text": [
      "{1, 2, 3, 4, 5}\n",
      "{1, 2, 3}\n",
      "{3, 4, 5}\n",
      "{1, 2, 3, 4, 5}\n",
      "{3, 4, 5}\n"
     ]
    }
   ],
   "source": [
    "\n",
    "#For example, if we have two sets A and B:\n",
    "\n",
    "A = {1, 2, 3}\n",
    "B = {3, 4, 5}\n",
    "\n",
    "#We canuse the union() method to create a new set C that contains all the elements from A and B:\n",
    "\n",
    "\n",
    "C = A.union(B)\n",
    "print(C) # {1, 2, 3, 4, 5}\n",
    "\n",
    "'''\n",
    "Note that A and B are unchanged by the union() method:\n",
    "'''\n",
    "\n",
    "print(A) # {1, 2, 3}\n",
    "print(B) # {3, 4, 5}\n",
    "\n",
    "'''\n",
    "We can also use the update() method to add all the elements from B to A:\n",
    "'''\n",
    "\n",
    "A.update(B)\n",
    "print(A) # {1, 2, 3, 4, 5}\n",
    "\n",
    "'''\n",
    "Note that A is changed by the update() method, but B is not:\n",
    "'''\n",
    "\n",
    "print(B) # {3, 4, 5}\n",
    "\n"
   ]
  },
  {
   "cell_type": "markdown",
   "id": "5a23601f-9bf1-4073-82b2-86799ccce9ad",
   "metadata": {},
   "source": [
    "Q5. What is a dictionary? Give an example. Also, state whether a dictionary is ordered or unordered."
   ]
  },
  {
   "cell_type": "markdown",
   "id": "d6753739-cd68-4005-8f96-37a6aed2f3d8",
   "metadata": {},
   "source": [
    "A dictionary is a collection of key-value pairs, where each key is associated with a value. A dictionary can be used to store and retrieve data values by using the keys as indexes. A dictionary is defined by enclosing a comma-separated list of key-value pairs in curly braces ({}). For example, a dictionary that stores the names and ages of some people can be defined as:\n",
    "\n",
    "```python\n",
    "people = {\"Alice\": 25, \"Bob\": 30, \"Charlie\": 35}\n",
    "```\n",
    "\n",
    "In this dictionary, the keys are \"Alice\", \"Bob\", and \"Charlie\", and the values are 25, 30, and 35. To access the value of a key, we can use the square brackets notation:\n",
    "\n",
    "```python\n",
    "print(people[\"Alice\"]) # 25\n",
    "```\n",
    "\n",
    "A dictionary is **ordered** as of Python version 3.7, meaning that the items have a defined order that will not change. In Python 3.6 and earlier, dictionaries are **unordered**, meaning that the items do not have a defined order and cannot be accessed by an index. \n"
   ]
  },
  {
   "cell_type": "markdown",
   "id": "d8869dec-b81e-44c9-abba-9215b0e090db",
   "metadata": {},
   "source": [
    "Q6. Can we create a nested dictionary? If so, please give an example by creating a simple one-level\n",
    "nested dictionary."
   ]
  },
  {
   "cell_type": "markdown",
   "id": "629fe542-6396-4916-9371-704718a5c0a0",
   "metadata": {},
   "source": [
    "Yes, we can create a nested dictionary in Python. A nested dictionary is a dictionary that contains another dictionary as a value for one or more of its keys. For example, we can create a simple one-level nested dictionary that stores some information about a person and their address:\n",
    "\n",
    "```python\n",
    "person = {\n",
    "    \"name\": \"Alice\",\n",
    "    \"age\": 25,\n",
    "    \"address\": {\n",
    "        \"street\": \"123 Main Street\",\n",
    "        \"city\": \"New York\",\n",
    "        \"zip\": \"10001\"\n",
    "    }\n",
    "}\n",
    "```\n",
    "\n",
    "In this nested dictionary, the key `address` has a dictionary as its value, which contains the keys `street`, `city`, and `zip` with their corresponding values. To access the values of the nested dictionary, we can use the square bracket notation with the outer and inner keys. For example, to get the city of the person, we can write:\n",
    "\n",
    "```python\n",
    "print(person[\"address\"][\"city\"]) # New York\n",
    "```\n"
   ]
  },
  {
   "cell_type": "markdown",
   "id": "072afdd4-fab3-4697-a7e4-6bcebc7abebd",
   "metadata": {},
   "source": [
    "Q7. Using setdefault() method, create key named topics in the given dictionary and also add the value of\n",
    "the key as this list ['Python', 'Machine Learning’, 'Deep Learning']\n"
   ]
  },
  {
   "cell_type": "markdown",
   "id": "485ef4b4-f41d-4a9b-ad9b-5c2665eff094",
   "metadata": {},
   "source": [
    "To create a key named topics in the given dictionary and also add the value of the key as this list ['Python', 'Machine Learning', 'Deep Learning'], we can use the setdefault() method. The setdefault() method returns the value of the key if it is in the dictionary, otherwise it inserts the key with the specified value and returns it. \n",
    "\n",
    "\n"
   ]
  },
  {
   "cell_type": "code",
   "execution_count": 9,
   "id": "a47f58e5-8aaf-4425-8830-faba852f23e8",
   "metadata": {},
   "outputs": [
    {
     "name": "stdout",
     "output_type": "stream",
     "text": [
      "{'language': 'Python', 'course': 'Data Science Masters', 'topics': ['Python', 'Machine Learning', 'Deep Learning']}\n"
     ]
    }
   ],
   "source": [
    "\n",
    "\n",
    "#For example, if we have a dictionary named dict1:\n",
    "\n",
    "\n",
    "dict1 = {'language' : 'Python', 'course': 'Data Science Masters'}\n",
    "\n",
    "'''\n",
    "We can use the setdefault() method to create a key named topics and assign \n",
    "it the value ['Python', 'Machine Learning', 'Deep Learning']:\n",
    "'''\n",
    "\n",
    "dict1.setdefault(\"topics\", ['Python', 'Machine Learning', 'Deep Learning'])\n",
    "\n",
    "'''\n",
    "This will return the value of the topics key, which\n",
    "is ['Python', 'Machine Learning', 'Deep Learning'], and also update the dict1 dictionary with the new key-value pair. We can print the dict1 dictionary to see the changes:\n",
    "'''\n",
    "\n",
    "print(dict1)\n",
    "\n",
    "\n",
    "\n"
   ]
  },
  {
   "cell_type": "markdown",
   "id": "1b7f7d9c-b7ab-4556-b374-e8a79b70d32e",
   "metadata": {},
   "source": [
    "Q8. What are the three view objects in dictionaries? Use the three in-built methods in python to display\n",
    "these three view objects for the given dictionary.\n",
    "dict1 = {'Sport': 'Cricket' , 'Teams': ['India', 'Australia', 'England', 'South Africa', 'Sri Lanka', 'New Zealand']}"
   ]
  },
  {
   "cell_type": "code",
   "execution_count": 12,
   "id": "753dccf5-b1a7-4849-99b8-82574ad8cc5d",
   "metadata": {},
   "outputs": [
    {
     "name": "stdout",
     "output_type": "stream",
     "text": [
      "dict_keys(['language', 'course', 'topics'])\n",
      "dict_values(['Python', 'Data Science Masters', ['Python', 'Machine Learning', 'Deep Learning']])\n",
      "dict_items([('language', 'Python'), ('course', 'Data Science Masters'), ('topics', ['Python', 'Machine Learning', 'Deep Learning'])])\n"
     ]
    }
   ],
   "source": [
    "#The three view objects in dictionaries are:\n",
    "'''\n",
    "- **keys**: This view object contains all the keys of the dictionary. To display this view object, we can use the **keys()** method on the dictionary. For example, for the given dictionary dict1, we can write:\n",
    "'''\n",
    "\n",
    "\n",
    "print(dict1.keys())\n",
    "\n",
    "\n",
    "'''\n",
    "- **values**: This view object contains all the values of the dictionary. To display this view object, we can use the **values()** method on the dictionary. For example, for the given dictionary dict1, we can write:\n",
    "'''\n",
    "\n",
    "print(dict1.values())\n",
    "\n",
    "'''\n",
    "- **items**: This view object contains all the key-value pairs of the dictionary as tuples. To display this view object, we can use the **items()** method on the dictionary. For example, for the given dictionary dict1, we can write:\n",
    "'''\n",
    "\n",
    "print(dict1.items())\n",
    "\n",
    "\n"
   ]
  },
  {
   "cell_type": "code",
   "execution_count": null,
   "id": "41de098b-ffbe-41da-a94a-84b0c0608cc8",
   "metadata": {},
   "outputs": [],
   "source": []
  },
  {
   "cell_type": "code",
   "execution_count": null,
   "id": "de657bf6-74a4-4463-b685-4c07bf5bcf8c",
   "metadata": {},
   "outputs": [],
   "source": []
  },
  {
   "cell_type": "code",
   "execution_count": null,
   "id": "81750146-126a-413e-91e6-8371c15b329a",
   "metadata": {},
   "outputs": [],
   "source": []
  },
  {
   "cell_type": "code",
   "execution_count": null,
   "id": "0f753555-25c1-486d-a1b2-2099dcb04c76",
   "metadata": {},
   "outputs": [],
   "source": []
  },
  {
   "cell_type": "code",
   "execution_count": null,
   "id": "e5d77c38-4217-473d-8671-6514afe315b1",
   "metadata": {},
   "outputs": [],
   "source": []
  }
 ],
 "metadata": {
  "kernelspec": {
   "display_name": "Python 3 (ipykernel)",
   "language": "python",
   "name": "python3"
  },
  "language_info": {
   "codemirror_mode": {
    "name": "ipython",
    "version": 3
   },
   "file_extension": ".py",
   "mimetype": "text/x-python",
   "name": "python",
   "nbconvert_exporter": "python",
   "pygments_lexer": "ipython3",
   "version": "3.10.8"
  }
 },
 "nbformat": 4,
 "nbformat_minor": 5
}
